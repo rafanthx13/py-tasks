{
 "cells": [
  {
   "cell_type": "code",
   "execution_count": 5,
   "metadata": {
    "ExecuteTime": {
     "end_time": "2020-03-05T19:11:39.997045Z",
     "start_time": "2020-03-05T19:11:39.001461Z"
    }
   },
   "outputs": [],
   "source": [
    "import requests\n",
    "from bs4 import BeautifulSoup\n",
    "import pandas as pd\n",
    "import os "
   ]
  },
  {
   "cell_type": "code",
   "execution_count": 11,
   "metadata": {
    "ExecuteTime": {
     "end_time": "2020-03-05T19:19:12.754976Z",
     "start_time": "2020-03-05T19:19:12.746274Z"
    }
   },
   "outputs": [],
   "source": [
    "url_initial_page = 'https://www.astrolink.com.br/casa'\n",
    "main_page = \"https://www.astrolink.com.br\"\n",
    "url_others_page = 'https://www.baitbuddies.com/?page=theguys&p='\n",
    "pagination = 12 # numero de paginas\n",
    "count = 1"
   ]
  },
  {
   "cell_type": "code",
   "execution_count": 59,
   "metadata": {
    "ExecuteTime": {
     "end_time": "2020-03-05T19:58:36.932457Z",
     "start_time": "2020-03-05T19:58:35.987084Z"
    }
   },
   "outputs": [
    {
     "name": "stdout",
     "output_type": "stream",
     "text": [
      "get:  https://www.astrolink.com.br/casa0\n",
      "get:  https://www.astrolink.com.br/casa1\n",
      "['/interpretacao/sol-na-casa-1', '/interpretacao/lua-na-casa-1', '/interpretacao/mercurio-na-casa-1', '/interpretacao/marte-na-casa-1', '/interpretacao/venus-na-casa-1', '/interpretacao/jupiter-na-casa-1', '/interpretacao/saturno-na-casa-1', '/interpretacao/urano-na-casa-1', '/interpretacao/netuno-na-casa-1', '/interpretacao/plutao-na-casa-1', '/interpretacao/parte-da-fortuna-na-casa-1']\n",
      "casa1\n"
     ]
    }
   ],
   "source": [
    "for page in range(0, pagination+1):\n",
    "    url_link_models = []\n",
    "    tuple_list = []\n",
    "    url = url_initial_page + str(page)\n",
    "    # Make HTTP Request\n",
    "    print(\"get: \", url)    \n",
    "    response = requests.get(url)\n",
    "    if(response.status_code != 200):\n",
    "        print(url, 'Erro Code')\n",
    "        quit()\n",
    "    soup_page = BeautifulSoup(response.text, 'html5lib')\n",
    "    if(page < 1):\n",
    "        continue\n",
    "    name_file = \"casa\" + str(page)\n",
    "    links = soup_page.find_all('h4')\n",
    "    links.pop(0)\n",
    "    for l in links:\n",
    "        url_link_models.append(l.a['href'])\n",
    "    url_link_models = url_link_models[0:11]\n",
    "    print(url_link_models)\n",
    "    print(name_file)\n",
    "    break"
   ]
  },
  {
   "cell_type": "code",
   "execution_count": 60,
   "metadata": {
    "ExecuteTime": {
     "end_time": "2020-03-05T19:58:49.265368Z",
     "start_time": "2020-03-05T19:58:44.359975Z"
    },
    "scrolled": true
   },
   "outputs": [
    {
     "name": "stdout",
     "output_type": "stream",
     "text": [
      "https://www.astrolink.com.br/interpretacao/sol-na-casa-1\n",
      "Sobre o Sol na Casa 1 do Mapa Astral\n",
      "https://www.astrolink.com.br/interpretacao/lua-na-casa-1\n",
      "Sobre a Lua na Casa 1 do Mapa Astral\n",
      "https://www.astrolink.com.br/interpretacao/mercurio-na-casa-1\n",
      "Sobre  Mercúrio na Casa 1 do Mapa Astral\n",
      "https://www.astrolink.com.br/interpretacao/marte-na-casa-1\n",
      "Sobre  Marte na Casa 1 do Mapa Astral\n",
      "https://www.astrolink.com.br/interpretacao/venus-na-casa-1\n",
      "Sobre  Vênus na Casa 1 do Mapa Astral\n",
      "https://www.astrolink.com.br/interpretacao/jupiter-na-casa-1\n",
      "Sobre  Júpiter na Casa 1 do Mapa Astral\n",
      "https://www.astrolink.com.br/interpretacao/saturno-na-casa-1\n",
      "Sobre  Saturno na Casa 1 do Mapa Astral\n",
      "https://www.astrolink.com.br/interpretacao/urano-na-casa-1\n",
      "Sobre  Urano na Casa 1 do Mapa Astral\n",
      "https://www.astrolink.com.br/interpretacao/netuno-na-casa-1\n",
      "Sobre  Netuno na Casa 1 do Mapa Astral\n",
      "https://www.astrolink.com.br/interpretacao/plutao-na-casa-1\n",
      "Sobre  Plutão na Casa 1 do Mapa Astral\n",
      "https://www.astrolink.com.br/interpretacao/parte-da-fortuna-na-casa-1\n",
      "Sobre  Parte da Fortuna na Casa 1 do Mapa Astral\n"
     ]
    }
   ],
   "source": [
    "for inter_page in url_link_models:\n",
    "    inter_url = main_page + inter_page\n",
    "    print(inter_url)\n",
    "    # Test URL\n",
    "    try:\n",
    "        response_model = requests.get(inter_url)\n",
    "        if(response_model.status_code != 200):\n",
    "            print('Erro no code')\n",
    "            quit()\n",
    "    except Exception as e:\n",
    "        print('Erro GIGANTE em', model)\n",
    "        continue\n",
    "    # Get Data\n",
    "    soup_model = BeautifulSoup(response_model.text, 'html5lib')\n",
    "    h2_title = soup_model.find_all('h2')[0].get_text()\n",
    "    content = soup_model.find_all('p')\n",
    "    re_content = []\n",
    "    for i in content:\n",
    "        re_content.append(i.get_text())\n",
    "    print(h2_title)\n",
    "    re_content = re_content[0:-5] # as ultimas 5 coisas são propaganda\n",
    "    #print(re_content)\n",
    "    # File\n",
    "    f = open(name_file + \".txt\", \"a\")\n",
    "    f.write(\"\\n\\n#### \" + h2_title)\n",
    "    f.write(\"\\n\\n> \" + inter_url)\n",
    "    for i in re_content:\n",
    "        f.write(\"\\n\\n\" + i)\n",
    "    f.close()"
   ]
  },
  {
   "cell_type": "code",
   "execution_count": null,
   "metadata": {},
   "outputs": [],
   "source": []
  }
 ],
 "metadata": {
  "kernelspec": {
   "display_name": "Python 3",
   "language": "python",
   "name": "python3"
  },
  "language_info": {
   "codemirror_mode": {
    "name": "ipython",
    "version": 3
   },
   "file_extension": ".py",
   "mimetype": "text/x-python",
   "name": "python",
   "nbconvert_exporter": "python",
   "pygments_lexer": "ipython3",
   "version": "3.7.5"
  }
 },
 "nbformat": 4,
 "nbformat_minor": 2
}
