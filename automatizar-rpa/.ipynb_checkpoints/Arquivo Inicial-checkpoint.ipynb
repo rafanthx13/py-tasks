{
 "cells": [
  {
   "cell_type": "markdown",
   "metadata": {},
   "source": [
    "# RPA e Python - Automatize qualquer Processo ou Sistema com Python\n",
    "\n",
    "### pyautogui\n",
    "\n",
    "- Biblioteca para controlar Mouse, Teclado e Tela do Computador com o Python<br>\n",
    "(Link: https://pyautogui.readthedocs.io/en/latest/quickstart.html)\n",
    "\n",
    "\n",
    "- Vamos fazer um exemplo simples aqui, mas repare que isso serve para:\n",
    "    - Qualquer site\n",
    "    - Qualquer programa ou pasta do seu computador\n",
    "    - Qualquer Sistema que você tenha que acessar e automatizar\n",
    "    \n",
    "### Desafio:\n",
    "\n",
    "- Queremos automatizar o backup de arquivos no sistema\n",
    "    - No nosso exemplo, vamos ter que criar um processo que faça o upload de 1 arquivo no Google Drive de forma automática e rápida"
   ]
  },
  {
   "cell_type": "code",
   "execution_count": null,
   "metadata": {},
   "outputs": [],
   "source": []
  }
 ],
 "metadata": {
  "kernelspec": {
   "display_name": "Python 3",
   "language": "python",
   "name": "python3"
  },
  "language_info": {
   "codemirror_mode": {
    "name": "ipython",
    "version": 3
   },
   "file_extension": ".py",
   "mimetype": "text/x-python",
   "name": "python",
   "nbconvert_exporter": "python",
   "pygments_lexer": "ipython3",
   "version": "3.7.5"
  },
  "toc": {
   "base_numbering": 1,
   "nav_menu": {},
   "number_sections": true,
   "sideBar": true,
   "skip_h1_title": false,
   "title_cell": "Table of Contents",
   "title_sidebar": "Contents",
   "toc_cell": false,
   "toc_position": {},
   "toc_section_display": true,
   "toc_window_display": false
  }
 },
 "nbformat": 4,
 "nbformat_minor": 4
}
