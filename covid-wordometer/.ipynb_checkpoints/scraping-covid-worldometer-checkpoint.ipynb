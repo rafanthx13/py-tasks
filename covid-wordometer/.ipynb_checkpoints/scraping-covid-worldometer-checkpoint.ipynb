{
 "cells": [
  {
   "cell_type": "code",
   "execution_count": 71,
   "metadata": {
    "_cell_guid": "f6d34eb2-33bf-4f3f-8a0f-7e4259845f2f",
    "_uuid": "de8ce9b8-96b0-4794-8e49-7528013b0a0f",
    "jupyter": {
     "outputs_hidden": false
    }
   },
   "outputs": [],
   "source": [
    "import pandas as pd\n",
    "import numpy as np\n",
    "import requests\n",
    "from bs4 import BeautifulSoup"
   ]
  },
  {
   "cell_type": "code",
   "execution_count": 72,
   "metadata": {
    "_cell_guid": "80dc4643-9ba1-4e79-8c86-0deb6b3ba53b",
    "_uuid": "b04e96ad-d514-4c40-bc88-348a7e4524b6",
    "jupyter": {
     "outputs_hidden": false
    }
   },
   "outputs": [],
   "source": [
    "website='https://www.worldometers.info/coronavirus/#countries' # url for the site \n",
    "website_url=requests.get(website).text\n",
    "soup = BeautifulSoup(website_url,'html.parser')"
   ]
  },
  {
   "cell_type": "code",
   "execution_count": 73,
   "metadata": {
    "_cell_guid": "8dea81f1-0695-4c2d-afe1-bce8542eea19",
    "_uuid": "9d60b82e-207c-4b50-9494-a3cd4afd5d3f",
    "jupyter": {
     "outputs_hidden": false
    }
   },
   "outputs": [],
   "source": [
    "my_table = soup.find('tbody')"
   ]
  },
  {
   "cell_type": "code",
   "execution_count": 74,
   "metadata": {
    "_cell_guid": "74aa1a4f-a182-43a5-815e-c13a78ff2ec5",
    "_uuid": "909097fe-a805-4d2d-847c-64dd2a076dab",
    "jupyter": {
     "outputs_hidden": false
    }
   },
   "outputs": [],
   "source": [
    "table_data = []\n",
    "for row in my_table.findAll('tr'):\n",
    "    row_data = []\n",
    "    for cell in row.findAll('td'):\n",
    "        row_data.append(cell.text)\n",
    "    if(len(row_data) > 0):\n",
    "        data_item = {\"Country\": row_data[1],\n",
    "                     \"TotalCases\": row_data[2],\n",
    "                     \"NewCases\": row_data[3],\n",
    "                     \"TotalDeaths\": row_data[4],\n",
    "                     \"NewDeaths\": row_data[5],\n",
    "                     \"TotalRecovered\": row_data[6],\n",
    "                     \"ActiveCases\": row_data[8],\n",
    "                     \"SeriousCritical\": row_data[9],\n",
    "                     \"TotCases/1Mpop\": row_data[10],\n",
    "                     \"Deaths/1Mpop\": row_data[11],\n",
    "                     \"TotalTests\": row_data[12],\n",
    "                     \"Tests/1Mpop\": row_data[13],\n",
    "                     \"Population\": row_data[14],\n",
    "        }\n",
    "        table_data.append(data_item)"
   ]
  },
  {
   "cell_type": "code",
   "execution_count": 75,
   "metadata": {
    "_cell_guid": "975c32cf-7d55-402d-9b85-5537062ec9d2",
    "_uuid": "4bd12e9f-940e-4fd8-8716-2603a00d5067",
    "jupyter": {
     "outputs_hidden": false
    }
   },
   "outputs": [],
   "source": [
    "df = pd.DataFrame(table_data)"
   ]
  },
  {
   "cell_type": "code",
   "execution_count": 76,
   "metadata": {},
   "outputs": [],
   "source": [
    "# df.head(10)\n",
    "df = df[8:] # Exclude Continents Rows and NAN row"
   ]
  },
  {
   "cell_type": "code",
   "execution_count": 77,
   "metadata": {
    "_cell_guid": "e22e6c5a-d0f2-4669-806d-bf47284c345c",
    "_uuid": "cb56b79e-9212-4ab7-9753-11011fd11d78",
    "jupyter": {
     "outputs_hidden": false
    }
   },
   "outputs": [
    {
     "data": {
      "text/plain": [
       "Country                Germany\n",
       "TotalCases           2,938,630\n",
       "NewCases               +11,058\n",
       "TotalDeaths            78,292 \n",
       "NewDeaths                 +118\n",
       "TotalRecovered       2,631,400\n",
       "ActiveCases            228,938\n",
       "SeriousCritical          4,439\n",
       "TotCases/1Mpop          34,988\n",
       "Deaths/1Mpop               932\n",
       "TotalTests          51,559,277\n",
       "Tests/1Mpop            613,878\n",
       "Population         83,989,395 \n",
       "Name: 17, dtype: object"
      ]
     },
     "execution_count": 77,
     "metadata": {},
     "output_type": "execute_result"
    }
   ],
   "source": [
    "# Example\n",
    "df.iloc[9]"
   ]
  },
  {
   "cell_type": "markdown",
   "metadata": {},
   "source": [
    "## Clean Data"
   ]
  },
  {
   "cell_type": "code",
   "execution_count": 78,
   "metadata": {
    "_cell_guid": "693516aa-0408-4902-bf15-93cc503c47ab",
    "_uuid": "53d7918e-466f-41d4-ad79-280b9e0cd833",
    "jupyter": {
     "outputs_hidden": false
    },
    "scrolled": true
   },
   "outputs": [
    {
     "data": {
      "text/html": [
       "<div>\n",
       "<style scoped>\n",
       "    .dataframe tbody tr th:only-of-type {\n",
       "        vertical-align: middle;\n",
       "    }\n",
       "\n",
       "    .dataframe tbody tr th {\n",
       "        vertical-align: top;\n",
       "    }\n",
       "\n",
       "    .dataframe thead th {\n",
       "        text-align: right;\n",
       "    }\n",
       "</style>\n",
       "<table border=\"1\" class=\"dataframe\">\n",
       "  <thead>\n",
       "    <tr style=\"text-align: right;\">\n",
       "      <th></th>\n",
       "      <th>Country</th>\n",
       "      <th>TotalCases</th>\n",
       "      <th>NewCases</th>\n",
       "      <th>TotalDeaths</th>\n",
       "      <th>NewDeaths</th>\n",
       "      <th>TotalRecovered</th>\n",
       "      <th>ActiveCases</th>\n",
       "      <th>SeriousCritical</th>\n",
       "      <th>TotCases/1Mpop</th>\n",
       "      <th>Deaths/1Mpop</th>\n",
       "      <th>TotalTests</th>\n",
       "      <th>Tests/1Mpop</th>\n",
       "      <th>Population</th>\n",
       "    </tr>\n",
       "  </thead>\n",
       "  <tbody>\n",
       "    <tr>\n",
       "      <th>8</th>\n",
       "      <td>USA</td>\n",
       "      <td>31647543</td>\n",
       "      <td>10300</td>\n",
       "      <td>572988</td>\n",
       "      <td>139</td>\n",
       "      <td>24207043</td>\n",
       "      <td>6867512</td>\n",
       "      <td>9057</td>\n",
       "      <td>95184</td>\n",
       "      <td>1723</td>\n",
       "      <td>413593155</td>\n",
       "      <td>1243928</td>\n",
       "      <td>332489703</td>\n",
       "    </tr>\n",
       "    <tr>\n",
       "      <th>9</th>\n",
       "      <td>Brazil</td>\n",
       "      <td>13197031</td>\n",
       "      <td>NaN</td>\n",
       "      <td>341097</td>\n",
       "      <td>NaN</td>\n",
       "      <td>11664158</td>\n",
       "      <td>1191776</td>\n",
       "      <td>8318</td>\n",
       "      <td>61750</td>\n",
       "      <td>1596</td>\n",
       "      <td>28600000</td>\n",
       "      <td>133822</td>\n",
       "      <td>213716460</td>\n",
       "    </tr>\n",
       "    <tr>\n",
       "      <th>10</th>\n",
       "      <td>India</td>\n",
       "      <td>12978132</td>\n",
       "      <td>52071</td>\n",
       "      <td>167105</td>\n",
       "      <td>213</td>\n",
       "      <td>11867486</td>\n",
       "      <td>943541</td>\n",
       "      <td>8944</td>\n",
       "      <td>9334</td>\n",
       "      <td>120</td>\n",
       "      <td>252677379</td>\n",
       "      <td>181732</td>\n",
       "      <td>1390382831</td>\n",
       "    </tr>\n",
       "    <tr>\n",
       "      <th>11</th>\n",
       "      <td>France</td>\n",
       "      <td>4841308</td>\n",
       "      <td>NaN</td>\n",
       "      <td>97722</td>\n",
       "      <td>NaN</td>\n",
       "      <td>301299</td>\n",
       "      <td>4442287</td>\n",
       "      <td>5626</td>\n",
       "      <td>74044</td>\n",
       "      <td>1495</td>\n",
       "      <td>67791157</td>\n",
       "      <td>1036811</td>\n",
       "      <td>65384318</td>\n",
       "    </tr>\n",
       "    <tr>\n",
       "      <th>12</th>\n",
       "      <td>Russia</td>\n",
       "      <td>4614834</td>\n",
       "      <td>8672</td>\n",
       "      <td>101845</td>\n",
       "      <td>365</td>\n",
       "      <td>4239038</td>\n",
       "      <td>273951</td>\n",
       "      <td>2300</td>\n",
       "      <td>31612</td>\n",
       "      <td>698</td>\n",
       "      <td>122600000</td>\n",
       "      <td>839827</td>\n",
       "      <td>145982499</td>\n",
       "    </tr>\n",
       "  </tbody>\n",
       "</table>\n",
       "</div>"
      ],
      "text/plain": [
       "   Country TotalCases NewCases TotalDeaths NewDeaths TotalRecovered  \\\n",
       "8      USA   31647543    10300     572988        139       24207043   \n",
       "9   Brazil   13197031      NaN     341097        NaN       11664158   \n",
       "10   India   12978132    52071     167105        213       11867486   \n",
       "11  France    4841308      NaN      97722        NaN         301299   \n",
       "12  Russia    4614834     8672     101845        365        4239038   \n",
       "\n",
       "   ActiveCases SeriousCritical TotCases/1Mpop Deaths/1Mpop TotalTests  \\\n",
       "8      6867512            9057          95184         1723  413593155   \n",
       "9      1191776            8318          61750         1596   28600000   \n",
       "10      943541            8944           9334          120  252677379   \n",
       "11     4442287            5626          74044         1495   67791157   \n",
       "12      273951            2300          31612          698  122600000   \n",
       "\n",
       "   Tests/1Mpop   Population  \n",
       "8      1243928   332489703   \n",
       "9       133822   213716460   \n",
       "10      181732  1390382831   \n",
       "11     1036811    65384318   \n",
       "12      839827   145982499   "
      ]
     },
     "execution_count": 78,
     "metadata": {},
     "output_type": "execute_result"
    }
   ],
   "source": [
    "columns = df.columns.tolist()\n",
    "\n",
    "def remove_punctuation(x):\n",
    "    y = x.replace(',','').replace('+','')\n",
    "    return y\n",
    "\n",
    "def a_function(x):\n",
    "    return x.replace('\\n','')\n",
    "\n",
    "dfr = pd.DataFrame()\n",
    "\n",
    "for c in columns:\n",
    "    dfr[c] = df[c].apply(remove_punctuation).replace(r'^\\s*$', np.nan, regex=True)\n",
    "\n",
    "dfr['Country'] = dfr['Country'].apply(a_function)\n",
    "dfr.head()"
   ]
  },
  {
   "cell_type": "code",
   "execution_count": 80,
   "metadata": {
    "_cell_guid": "484da556-c80e-4583-a175-68435eb594af",
    "_uuid": "b4922ba3-e4c1-41a0-ad00-9c6146a9120b",
    "jupyter": {
     "outputs_hidden": false
    }
   },
   "outputs": [
    {
     "data": {
      "text/plain": [
       "['TotalCases',\n",
       " 'NewCases',\n",
       " 'TotalDeaths',\n",
       " 'NewDeaths',\n",
       " 'TotalRecovered',\n",
       " 'ActiveCases',\n",
       " 'SeriousCritical',\n",
       " 'TotCases/1Mpop',\n",
       " 'Deaths/1Mpop',\n",
       " 'TotalTests',\n",
       " 'Tests/1Mpop',\n",
       " 'Population']"
      ]
     },
     "execution_count": 80,
     "metadata": {},
     "output_type": "execute_result"
    }
   ],
   "source": [
    "columns[1:]"
   ]
  },
  {
   "cell_type": "code",
   "execution_count": 81,
   "metadata": {
    "_cell_guid": "9b5ec05c-0ce9-4772-b61b-81f8906d472b",
    "_uuid": "e7464f1e-f036-47f9-9d65-a369aac6b931",
    "jupyter": {
     "outputs_hidden": false
    }
   },
   "outputs": [
    {
     "name": "stdout",
     "output_type": "stream",
     "text": [
      "<class 'pandas.core.frame.DataFrame'>\n",
      "RangeIndex: 221 entries, 8 to 228\n",
      "Data columns (total 13 columns):\n",
      " #   Column           Non-Null Count  Dtype \n",
      "---  ------           --------------  ----- \n",
      " 0   Country          221 non-null    object\n",
      " 1   TotalCases       221 non-null    int32 \n",
      " 2   NewCases         221 non-null    int32 \n",
      " 3   TotalDeaths      221 non-null    int32 \n",
      " 4   NewDeaths        221 non-null    int32 \n",
      " 5   TotalRecovered   221 non-null    int32 \n",
      " 6   ActiveCases      221 non-null    int32 \n",
      " 7   SeriousCritical  221 non-null    int32 \n",
      " 8   TotCases/1Mpop   221 non-null    int32 \n",
      " 9   Deaths/1Mpop     221 non-null    int32 \n",
      " 10  TotalTests       221 non-null    int32 \n",
      " 11  Tests/1Mpop      221 non-null    int32 \n",
      " 12  Population       221 non-null    int32 \n",
      "dtypes: int32(12), object(1)\n",
      "memory usage: 12.2+ KB\n"
     ]
    }
   ],
   "source": [
    "for c in columns[1:]:\n",
    "    dfr[c] = dfr[c].fillna(0).replace('N/A','')\n",
    "    dfr[c] = dfr[c].fillna({'':0}).replace('',0)\n",
    "    dfr[c] = dfr[c].astype(float).astype(int)\n",
    "    \n",
    "dfr = dfr.reset_index(drop=True)\n",
    "dfr.info()"
   ]
  },
  {
   "cell_type": "code",
   "execution_count": 89,
   "metadata": {
    "_cell_guid": "3e19f273-bf17-47b9-a234-bec3267fa82f",
    "_uuid": "d4444eb9-4f38-4234-9da9-5903d6323b3a",
    "jupyter": {
     "outputs_hidden": false
    }
   },
   "outputs": [],
   "source": [
    "import datetime\n",
    "dt = datetime.datetime.today()\n",
    "\n",
    "dfr.to_csv('covid19-word-o-meter-{:02d}-{:02d}-{:4d}'.format(dt.month,dt.day,dt.year) +'.csv', index=True)"
   ]
  }
 ],
 "metadata": {
  "kernelspec": {
   "display_name": "Python 3",
   "language": "python",
   "name": "python3"
  },
  "language_info": {
   "codemirror_mode": {
    "name": "ipython",
    "version": 3
   },
   "file_extension": ".py",
   "mimetype": "text/x-python",
   "name": "python",
   "nbconvert_exporter": "python",
   "pygments_lexer": "ipython3",
   "version": "3.8.5"
  }
 },
 "nbformat": 4,
 "nbformat_minor": 4
}
