{
 "cells": [
  {
   "cell_type": "code",
   "execution_count": 6,
   "id": "2cdfce5b",
   "metadata": {},
   "outputs": [],
   "source": [
    "import requests\n",
    "from bs4 import BeautifulSoup\n",
    "import pandas as pd\n",
    "import os "
   ]
  },
  {
   "cell_type": "code",
   "execution_count": 7,
   "id": "6c56890f",
   "metadata": {},
   "outputs": [],
   "source": [
    "links = [\n",
    "    'https://refactoring.guru/pt-br/design-patterns/behavioral-patterns',\n",
    "    'https://refactoring.guru/pt-br/design-patterns/structural-patterns',\n",
    "    'https://refactoring.guru/pt-br/design-patterns/creational-patterns'\n",
    "]"
   ]
  },
  {
   "cell_type": "code",
   "execution_count": 16,
   "id": "488a04b7",
   "metadata": {
    "scrolled": true
   },
   "outputs": [
    {
     "name": "stdout",
     "output_type": "stream",
     "text": [
      "['https://refactoring.guru//images/patterns/cards/chain-of-responsibility-mini.png?id=36d85eba8d14986f0531', 'https://refactoring.guru//images/patterns/cards/command-mini.png?id=b149eda017c0583c1e92', 'https://refactoring.guru//images/patterns/cards/iterator-mini.png?id=76c28bb48f997b369659', 'https://refactoring.guru//images/patterns/cards/mediator-mini.png?id=a7e43ee8e17e4474737b', 'https://refactoring.guru//images/patterns/cards/memento-mini.png?id=8b2ea4dc2c5d15775a65', 'https://refactoring.guru//images/patterns/cards/observer-mini.png?id=fd2081ab1cff29c60b49', 'https://refactoring.guru//images/patterns/cards/state-mini.png?id=f4018837e0641d1dade7', 'https://refactoring.guru//images/patterns/cards/strategy-mini.png?id=d38abee4fb6f2aed909d', 'https://refactoring.guru//images/patterns/cards/template-method-mini.png?id=9f200248d88026d8e79d', 'https://refactoring.guru//images/patterns/cards/visitor-mini.png?id=854a35a62963bec1d75e', 'https://refactoring.guru//images/patterns/cards/adapter-mini.png?id=b2ee4f681fb589be5a06', 'https://refactoring.guru//images/patterns/cards/bridge-mini.png?id=b389101d8ee8e23ffa1b', 'https://refactoring.guru//images/patterns/cards/composite-mini.png?id=a369d98d18b417f255d0', 'https://refactoring.guru//images/patterns/cards/decorator-mini.png?id=d30458908e315af195cb', 'https://refactoring.guru//images/patterns/cards/facade-mini.png?id=71ad6fa98b168c11cb3a', 'https://refactoring.guru//images/patterns/cards/flyweight-mini.png?id=422ca8d2f90614dce810', 'https://refactoring.guru//images/patterns/cards/proxy-mini.png?id=25890b11e7dc5af29625', 'https://refactoring.guru//images/patterns/cards/factory-method-mini.png?id=72619e9527893374b98a', 'https://refactoring.guru//images/patterns/cards/abstract-factory-mini.png?id=4c3927c446313a38ce77', 'https://refactoring.guru//images/patterns/cards/builder-mini.png?id=19b95fd05e6469679752', 'https://refactoring.guru//images/patterns/cards/prototype-mini.png?id=bc3046bb39ff36574c08', 'https://refactoring.guru//images/patterns/cards/singleton-mini.png?id=914e1565dfdf15f240e7']\n"
     ]
    }
   ],
   "source": [
    "base_url = 'https://refactoring.guru/'\n",
    "img_links = []\n",
    "\n",
    "for link in links:\n",
    "    response = requests.get(link)\n",
    "#     print(response.text)\n",
    "    soup_page = BeautifulSoup(response.text)\n",
    "    span_tags = soup_page.find_all('span', attrs = {'class' : 'pattern-image'})\n",
    "    for l in span_tags:\n",
    "        img_src = base_url + l.find('img')['src']\n",
    "        img_links.append(img_src)\n",
    "\n",
    "print(img_links)"
   ]
  },
  {
   "cell_type": "code",
   "execution_count": 20,
   "id": "c5a021a0",
   "metadata": {},
   "outputs": [
    {
     "data": {
      "text/plain": [
       "'chain-of-responsibility.png'"
      ]
     },
     "execution_count": 20,
     "metadata": {},
     "output_type": "execute_result"
    }
   ],
   "source": [
    "img_links[0].split('/')[-1].split('?')[0].replace('-mini','')"
   ]
  },
  {
   "cell_type": "code",
   "execution_count": 21,
   "id": "7b431bfc",
   "metadata": {},
   "outputs": [
    {
     "name": "stdout",
     "output_type": "stream",
     "text": [
      "GENERATE IMAGE chain-of-responsibility.png FROM https://refactoring.guru//images/patterns/cards/chain-of-responsibility-mini.png?id=36d85eba8d14986f0531\n",
      "GENERATE IMAGE command.png FROM https://refactoring.guru//images/patterns/cards/command-mini.png?id=b149eda017c0583c1e92\n",
      "GENERATE IMAGE iterator.png FROM https://refactoring.guru//images/patterns/cards/iterator-mini.png?id=76c28bb48f997b369659\n",
      "GENERATE IMAGE mediator.png FROM https://refactoring.guru//images/patterns/cards/mediator-mini.png?id=a7e43ee8e17e4474737b\n",
      "GENERATE IMAGE memento.png FROM https://refactoring.guru//images/patterns/cards/memento-mini.png?id=8b2ea4dc2c5d15775a65\n",
      "GENERATE IMAGE observer.png FROM https://refactoring.guru//images/patterns/cards/observer-mini.png?id=fd2081ab1cff29c60b49\n",
      "GENERATE IMAGE state.png FROM https://refactoring.guru//images/patterns/cards/state-mini.png?id=f4018837e0641d1dade7\n",
      "GENERATE IMAGE strategy.png FROM https://refactoring.guru//images/patterns/cards/strategy-mini.png?id=d38abee4fb6f2aed909d\n",
      "GENERATE IMAGE template-method.png FROM https://refactoring.guru//images/patterns/cards/template-method-mini.png?id=9f200248d88026d8e79d\n",
      "GENERATE IMAGE visitor.png FROM https://refactoring.guru//images/patterns/cards/visitor-mini.png?id=854a35a62963bec1d75e\n",
      "GENERATE IMAGE adapter.png FROM https://refactoring.guru//images/patterns/cards/adapter-mini.png?id=b2ee4f681fb589be5a06\n",
      "GENERATE IMAGE bridge.png FROM https://refactoring.guru//images/patterns/cards/bridge-mini.png?id=b389101d8ee8e23ffa1b\n",
      "GENERATE IMAGE composite.png FROM https://refactoring.guru//images/patterns/cards/composite-mini.png?id=a369d98d18b417f255d0\n",
      "GENERATE IMAGE decorator.png FROM https://refactoring.guru//images/patterns/cards/decorator-mini.png?id=d30458908e315af195cb\n",
      "GENERATE IMAGE facade.png FROM https://refactoring.guru//images/patterns/cards/facade-mini.png?id=71ad6fa98b168c11cb3a\n",
      "GENERATE IMAGE flyweight.png FROM https://refactoring.guru//images/patterns/cards/flyweight-mini.png?id=422ca8d2f90614dce810\n",
      "GENERATE IMAGE proxy.png FROM https://refactoring.guru//images/patterns/cards/proxy-mini.png?id=25890b11e7dc5af29625\n",
      "GENERATE IMAGE factory-method.png FROM https://refactoring.guru//images/patterns/cards/factory-method-mini.png?id=72619e9527893374b98a\n",
      "GENERATE IMAGE abstract-factory.png FROM https://refactoring.guru//images/patterns/cards/abstract-factory-mini.png?id=4c3927c446313a38ce77\n",
      "GENERATE IMAGE builder.png FROM https://refactoring.guru//images/patterns/cards/builder-mini.png?id=19b95fd05e6469679752\n",
      "GENERATE IMAGE prototype.png FROM https://refactoring.guru//images/patterns/cards/prototype-mini.png?id=bc3046bb39ff36574c08\n",
      "GENERATE IMAGE singleton.png FROM https://refactoring.guru//images/patterns/cards/singleton-mini.png?id=914e1565dfdf15f240e7\n"
     ]
    }
   ],
   "source": [
    "for img in img_links:\n",
    "    r = requests.get(img)\n",
    "    img_name = img.split('/')[-1].split('?')[0].replace('-mini','')\n",
    "    with open(img_name, \"wb\") as f:\n",
    "        print('GENERATE IMAGE', img_name, 'FROM\\n', img,'\\n')\n",
    "        f.write(r.content)"
   ]
  },
  {
   "cell_type": "code",
   "execution_count": null,
   "id": "a399c75f",
   "metadata": {},
   "outputs": [],
   "source": []
  }
 ],
 "metadata": {
  "kernelspec": {
   "display_name": "Python 3",
   "language": "python",
   "name": "python3"
  },
  "language_info": {
   "codemirror_mode": {
    "name": "ipython",
    "version": 3
   },
   "file_extension": ".py",
   "mimetype": "text/x-python",
   "name": "python",
   "nbconvert_exporter": "python",
   "pygments_lexer": "ipython3",
   "version": "3.9.5"
  }
 },
 "nbformat": 4,
 "nbformat_minor": 5
}
