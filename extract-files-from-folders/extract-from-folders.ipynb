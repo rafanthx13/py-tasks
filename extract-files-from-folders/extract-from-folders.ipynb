{
 "cells": [
  {
   "cell_type": "markdown",
   "metadata": {},
   "source": [
    "# Extrair Arquivos de Pastas\n",
    "\n",
    "Criado em: 22/11/2021\n",
    "    \n",
    "## Objetivo\n",
    "\n",
    "**Problema**\n",
    "\n",
    "Certos crusos possuem uma pasta por arquivo. Se os vídeos forem curtos, você caba tendo que trocar de pasta a todo momento.\n",
    "\n",
    "**Proposta de soluçâo**\n",
    "\n",
    "Esse py-script tem como objetivo: Extrair arquivos de uma pasta, renomealos e colocalos na riz.\n",
    "    \n",
    "**Justificativa**\n",
    "\n",
    "Executando a proposta, os arquivos estarao juntos e dá para assitir as aulas em sequência\n",
    "\n",
    "## Import Libs\n"
   ]
  },
  {
   "cell_type": "code",
   "execution_count": 10,
   "metadata": {
    "ExecuteTime": {
     "end_time": "2021-11-23T23:57:45.213951Z",
     "start_time": "2021-11-23T23:57:45.204085Z"
    }
   },
   "outputs": [],
   "source": [
    "import os\n",
    "import json"
   ]
  },
  {
   "cell_type": "markdown",
   "metadata": {},
   "source": [
    "## Snippets"
   ]
  },
  {
   "cell_type": "code",
   "execution_count": 11,
   "metadata": {
    "ExecuteTime": {
     "end_time": "2021-11-23T23:57:45.796167Z",
     "start_time": "2021-11-23T23:57:45.790823Z"
    }
   },
   "outputs": [],
   "source": [
    "def check_os_and_separator():\n",
    "    \"\"\"Check if is linux and windows, and retorn separator\"\"\"\n",
    "    separator, op_system = ('\\\\','windows') if os.name == 'nt' else ('/', 'linux')\n",
    "    print(op_system)\n",
    "    return separator"
   ]
  },
  {
   "cell_type": "code",
   "execution_count": 12,
   "metadata": {
    "ExecuteTime": {
     "end_time": "2021-11-23T23:57:46.173693Z",
     "start_time": "2021-11-23T23:57:46.164742Z"
    }
   },
   "outputs": [],
   "source": [
    "def get_all_folders(path='.'):\n",
    "    \"\"\"Get all fodelrs, exlude .ipynb_checkpoints\"\"\"\n",
    "    all_directory_files_contents = os.listdir(path)\n",
    "    all_dirs = list(filter(lambda x: os.path.isdir(x) and x !='.ipynb_checkpoints',\n",
    "                           all_directory_files_contents))\n",
    "    return all_dirs"
   ]
  },
  {
   "cell_type": "code",
   "execution_count": 13,
   "metadata": {
    "ExecuteTime": {
     "end_time": "2021-11-23T23:57:46.686723Z",
     "start_time": "2021-11-23T23:57:46.680113Z"
    }
   },
   "outputs": [],
   "source": [
    "def list_files(dir):\n",
    "    r = []\n",
    "    for root, dirs, files in os.walk(dir):\n",
    "        for name in files:\n",
    "            r.append(os.path.join(root, name))\n",
    "    return r"
   ]
  },
  {
   "cell_type": "markdown",
   "metadata": {},
   "source": [
    "## Start"
   ]
  },
  {
   "cell_type": "code",
   "execution_count": 14,
   "metadata": {
    "ExecuteTime": {
     "end_time": "2021-11-23T23:57:47.465433Z",
     "start_time": "2021-11-23T23:57:47.456151Z"
    }
   },
   "outputs": [
    {
     "name": "stdout",
     "output_type": "stream",
     "text": [
      "linux\n"
     ]
    },
    {
     "data": {
      "text/plain": [
       "'extract-files-from-folders'"
      ]
     },
     "execution_count": 14,
     "metadata": {},
     "output_type": "execute_result"
    }
   ],
   "source": [
    "separator = check_os_and_separator()\n",
    "\n",
    "root_directory = os.getcwd().split(separator)[-1]\n",
    "# root_directory"
   ]
  },
  {
   "cell_type": "code",
   "execution_count": 40,
   "metadata": {
    "ExecuteTime": {
     "end_time": "2021-11-24T02:05:18.413268Z",
     "start_time": "2021-11-24T02:05:18.405755Z"
    }
   },
   "outputs": [
    {
     "data": {
      "text/plain": [
       "['1. Fundamentos da programação']"
      ]
     },
     "execution_count": 40,
     "metadata": {},
     "output_type": "execute_result"
    }
   ],
   "source": [
    "all_folders = get_all_folders()\n",
    "all_folders"
   ]
  },
  {
   "cell_type": "code",
   "execution_count": 48,
   "metadata": {
    "ExecuteTime": {
     "end_time": "2021-11-24T02:08:41.232131Z",
     "start_time": "2021-11-24T02:08:41.154833Z"
    },
    "scrolled": true
   },
   "outputs": [
    {
     "name": "stdout",
     "output_type": "stream",
     "text": [
      "Fold ==> 1. Fundamentos da programação\n",
      "1. Fundamentos da programação/1. Introdução/1. Boas-vindas/Boas-vindas.mp4\n",
      "to === .0-1. Boas-vindas.mp4\n",
      "\t the_image \t 0-1. Boas-vindas.mp4\n",
      "1. Fundamentos da programação/11. Esclarecimentos/11. O que faz um programador/O que faz um programador.mp4\n",
      "to === .1-11. O que faz um programador.mp4\n",
      "\t the_image \t 1-11. O que faz um programador.mp4\n",
      "1. Fundamentos da programação/11. Esclarecimentos/21. Quanto ganhamos/Quanto ganhamos.mp4\n",
      "to === .2-21. Quanto ganhamos.mp4\n",
      "\t the_image \t 2-21. Quanto ganhamos.mp4\n",
      "1. Fundamentos da programação/11. Esclarecimentos/31. Mercado de trabalho/Mercado de trabalho.mp4\n",
      "to === .3-31. Mercado de trabalho.mp4\n",
      "\t the_image \t 3-31. Mercado de trabalho.mp4\n",
      "1. Fundamentos da programação/11. Esclarecimentos/41. Programação é para gênio/Programação é para gênio#.mp4\n",
      "to === .4-41. Programação é para gênio.mp4\n",
      "\t the_image \t 4-41. Programação é para gênio.mp4\n",
      "1. Fundamentos da programação/11. Esclarecimentos/51. Matemática e Inglês/Matemática e Inglês.mp4\n",
      "to === .5-51. Matemática e Inglês.mp4\n",
      "\t the_image \t 5-51. Matemática e Inglês.mp4\n",
      "1. Fundamentos da programação/21. Princípios gerais/104. Hardware e Software/Hardware e Software.mp4\n",
      "to === .6-104. Hardware e Software.mp4\n",
      "\t the_image \t 6-104. Hardware e Software.mp4\n",
      "1. Fundamentos da programação/21. Princípios gerais/105. A Web/A Web.mp4\n",
      "to === .7-105. A Web.mp4\n",
      "\t the_image \t 7-105. A Web.mp4\n",
      "1. Fundamentos da programação/21. Princípios gerais/106. Front-end, Back-end e Full-Stack/Front-end, Back-end e Full-Stack.mp4\n",
      "to === .8-106. Front-end, Back-end e Full-Stack.mp4\n",
      "\t the_image \t 8-106. Front-end, Back-end e Full-Stack.mp4\n",
      "1. Fundamentos da programação/21. Princípios gerais/107. Linguagem de programação/Linguagem de programação.mp4\n",
      "to === .9-107. Linguagem de programação.mp4\n",
      "\t the_image \t 9-107. Linguagem de programação.mp4\n",
      "1. Fundamentos da programação/21. Princípios gerais/108. HTML, CSS e Javascript/HTML, CSS e Javascript.mp4\n",
      "to === .10-108. HTML, CSS e Javascript.mp4\n",
      "\t the_image \t 10-108. HTML, CSS e Javascript.mp4\n",
      "1. Fundamentos da programação/21. Princípios gerais/111. Refatoração/Refatoração.mp4\n",
      "to === .11-111. Refatoração.mp4\n",
      "\t the_image \t 11-111. Refatoração.mp4\n",
      "1. Fundamentos da programação/21. Princípios gerais/121. Bug e Debug/Bug e Debug.mp4\n",
      "to === .12-121. Bug e Debug.mp4\n",
      "\t the_image \t 12-121. Bug e Debug.mp4\n",
      "1. Fundamentos da programação/21. Princípios gerais/131. Comentários/Comentários.mp4\n",
      "to === .13-131. Comentários.mp4\n",
      "\t the_image \t 13-131. Comentários.mp4\n",
      "1. Fundamentos da programação/21. Princípios gerais/141. CamelCase/CamelCase.mp4\n",
      "to === .14-141. CamelCase.mp4\n",
      "\t the_image \t 14-141. CamelCase.mp4\n",
      "1. Fundamentos da programação/21. Princípios gerais/151. Diretório/Diretório.mp4\n",
      "to === .15-151. Diretório.mp4\n",
      "\t the_image \t 15-151. Diretório.mp4\n",
      "1. Fundamentos da programação/21. Princípios gerais/161. Framework/Framework.mp4\n",
      "to === .16-161. Framework.mp4\n",
      "\t the_image \t 16-161. Framework.mp4\n",
      "1. Fundamentos da programação/21. Princípios gerais/171. Biblioteca/Biblioteca.mp4\n",
      "to === .17-171. Biblioteca.mp4\n",
      "\t the_image \t 17-171. Biblioteca.mp4\n",
      "1. Fundamentos da programação/21. Princípios gerais/181. Design Responsivo/Design Responsivo.mp4\n",
      "to === .18-181. Design Responsivo.mp4\n",
      "\t the_image \t 18-181. Design Responsivo.mp4\n",
      "1. Fundamentos da programação/21. Princípios gerais/191. Domínio e Hospedagem/Domínio e Hospedagem.mp4\n",
      "to === .19-191. Domínio e Hospedagem.mp4\n",
      "\t the_image \t 19-191. Domínio e Hospedagem.mp4\n",
      "1. Fundamentos da programação/21. Princípios gerais/201. Banco de Dados/Banco de Dados.mp4\n",
      "to === .20-201. Banco de Dados.mp4\n",
      "\t the_image \t 20-201. Banco de Dados.mp4\n",
      "1. Fundamentos da programação/21. Princípios gerais/211. CRUD/CRUD.mp4\n",
      "to === .21-211. CRUD.mp4\n",
      "\t the_image \t 21-211. CRUD.mp4\n",
      "1. Fundamentos da programação/21. Princípios gerais/221. URL amigável/URL amigável.mp4\n",
      "to === .22-221. URL amigável.mp4\n",
      "\t the_image \t 22-221. URL amigável.mp4\n",
      "1. Fundamentos da programação/21. Princípios gerais/231. Cookies/Cookies.mp4\n",
      "to === .23-231. Cookies.mp4\n",
      "\t the_image \t 23-231. Cookies.mp4\n",
      "1. Fundamentos da programação/31. Encerramento/251. O que devo estudar/O que devo estudar.mp4\n",
      "to === .24-251. O que devo estudar.mp4\n",
      "\t the_image \t 24-251. O que devo estudar.mp4\n",
      "1. Fundamentos da programação/31. Encerramento/261. Sinais de fracasso/Sinais de fracasso.mp4\n",
      "to === .25-261. Sinais de fracasso.mp4\n",
      "\t the_image \t 25-261. Sinais de fracasso.mp4\n",
      "1. Fundamentos da programação/31. Encerramento/271. Lidando com a desmotivação/Lidando com a desmotivação.mp4\n",
      "to === .26-271. Lidando com a desmotivação.mp4\n",
      "\t the_image \t 26-271. Lidando com a desmotivação.mp4\n"
     ]
    }
   ],
   "source": [
    "alist = []\n",
    "for fold in all_folders:\n",
    "    print('Fold ==>', fold)\n",
    "    files = list_files(fold)\n",
    "    files.sort()\n",
    "    if(len(files) == 0):\n",
    "        print('\\t\\tEmpty Files')\n",
    "    try:\n",
    "        c = 0\n",
    "        for afile in files:\n",
    "            print(afile)\n",
    "            pure_name = afile[2:].split(separator)[-1] # pega o nome+ext do arquivo\n",
    "            folder_name = afile[2:].split(separator)[-2]\n",
    "            extension = afile[2:].split(separator)[-1].split('.')[-1]\n",
    "            finalize_path_file = str(c) + '-' + folder_name + '.' + extension\n",
    "            print('to ===', '.' + finalize_path_file, '\\n')\n",
    "            os.rename(afile, finalize_path_file) # poe na raiz\n",
    "#             print('\\t', 'the_image', '\\t', finalize_path_file) # print se success\n",
    "#             alist.append(finalize_path_file)\n",
    "            c += 1\n",
    "    except Exception as err:\n",
    "        print('ERROR')\n",
    "        print(err)"
   ]
  }
 ],
 "metadata": {
  "kernelspec": {
   "display_name": "Python 3",
   "language": "python",
   "name": "python3"
  },
  "language_info": {
   "codemirror_mode": {
    "name": "ipython",
    "version": 3
   },
   "file_extension": ".py",
   "mimetype": "text/x-python",
   "name": "python",
   "nbconvert_exporter": "python",
   "pygments_lexer": "ipython3",
   "version": "3.7.5"
  },
  "toc": {
   "base_numbering": 1,
   "nav_menu": {},
   "number_sections": true,
   "sideBar": true,
   "skip_h1_title": false,
   "title_cell": "Table of Contents",
   "title_sidebar": "Contents",
   "toc_cell": false,
   "toc_position": {},
   "toc_section_display": true,
   "toc_window_display": false
  }
 },
 "nbformat": 4,
 "nbformat_minor": 2
}
