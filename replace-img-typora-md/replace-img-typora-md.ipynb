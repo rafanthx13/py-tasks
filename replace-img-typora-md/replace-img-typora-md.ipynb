{
 "cells": [
  {
   "cell_type": "markdown",
   "metadata": {},
   "source": [
    "# Replace IMG on Typora\n",
    "\n",
    "Muitas vezes, em meu estudo,eu tiro o print da tela, apra economizar tempo (print de texto0, ou para pega uma imagem)\n",
    "\n",
    "Acontece que gosto de colcoar isso no typora, par aisos, eu tenho que fazer por exemplo de\n",
    "\n",
    "````\n",
    "img-c2-7-37\n",
    "````\n",
    "\n",
    "````\n",
    "![](/home/rhavel/Documentos/STUDY-PROJECTS/data-engineering-study/ds-academy/formacao-data-enginner/course-02-data-lake/imgs/img-c2-7-37.png)\n",
    "````\n",
    "\n",
    "# Qual o Objetivo\n",
    "\n",
    "Ao invez de faer manualmente, criar um programr que ler onde começa com 'img-' e substitui por um path + img + .png. QUe todo o processo seje editável e asism altere o md, economiznaod meu tempo"
   ]
  },
  {
   "cell_type": "code",
   "execution_count": 3,
   "metadata": {
    "ExecuteTime": {
     "end_time": "2021-11-28T18:52:18.094529Z",
     "start_time": "2021-11-28T18:52:17.830544Z"
    }
   },
   "outputs": [],
   "source": [
    "import sys\n",
    "import re\n",
    "import fileinput"
   ]
  },
  {
   "cell_type": "code",
   "execution_count": 2,
   "metadata": {
    "ExecuteTime": {
     "end_time": "2021-11-28T18:50:08.790012Z",
     "start_time": "2021-11-28T18:50:08.758150Z"
    }
   },
   "outputs": [],
   "source": [
    "# CONSTANTS\n",
    "extension = '.png'\n",
    "root_dir = '![](/home/rhavel/Documentos/STUDY-PROJECTS/data-engineering-study/ds-academy/formacao-data-enginner/course-02-data-lake/imgs/'\n",
    "final_string = ')'"
   ]
  },
  {
   "cell_type": "code",
   "execution_count": 4,
   "metadata": {
    "ExecuteTime": {
     "end_time": "2021-11-28T18:54:40.132158Z",
     "start_time": "2021-11-28T18:54:40.084580Z"
    }
   },
   "outputs": [],
   "source": [
    "# afile = '06-data-lake-aws-messages-kafka-zookeeper.md'\n",
    "if(len(sys.argv) != 2):\n",
    "\texit()\n",
    "afile = sys.argv[1]"
   ]
  },
  {
   "cell_type": "code",
   "execution_count": 16,
   "metadata": {
    "ExecuteTime": {
     "end_time": "2021-11-28T19:06:25.965711Z",
     "start_time": "2021-11-28T19:06:25.919052Z"
    }
   },
   "outputs": [
    {
     "name": "stdout",
     "output_type": "stream",
     "text": [
      "17 lines modify\n"
     ]
    }
   ],
   "source": [
    "c  = 0\n",
    "for line in fileinput.input(afile, inplace=True):\n",
    "    if(line.startswith('img-')):\n",
    "        print(root_dir + line.strip() + extension + final_string, end='')\n",
    "        c = c + 1\n",
    "    else:\n",
    "        print(line, end='')\n",
    "print(c, 'lines modify', '\\nSuccess')\n"
   ]
  }
 ],
 "metadata": {
  "kernelspec": {
   "display_name": "Python 3",
   "language": "python",
   "name": "python3"
  },
  "language_info": {
   "codemirror_mode": {
    "name": "ipython",
    "version": 3
   },
   "file_extension": ".py",
   "mimetype": "text/x-python",
   "name": "python",
   "nbconvert_exporter": "python",
   "pygments_lexer": "ipython3",
   "version": "3.7.5"
  },
  "toc": {
   "base_numbering": 1,
   "nav_menu": {},
   "number_sections": true,
   "sideBar": true,
   "skip_h1_title": false,
   "title_cell": "Table of Contents",
   "title_sidebar": "Contents",
   "toc_cell": false,
   "toc_position": {},
   "toc_section_display": true,
   "toc_window_display": false
  }
 },
 "nbformat": 4,
 "nbformat_minor": 2
}
