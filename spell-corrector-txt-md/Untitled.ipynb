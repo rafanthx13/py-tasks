{
 "cells": [
  {
   "cell_type": "code",
   "execution_count": 4,
   "metadata": {
    "ExecuteTime": {
     "end_time": "2021-11-02T17:40:25.794968Z",
     "start_time": "2021-11-02T17:40:25.786791Z"
    }
   },
   "outputs": [],
   "source": [
    "import sys\n",
    "from datadict import dictionary\n",
    "from datadict import long_text_block\n",
    "import re\n",
    "\n"
   ]
  },
  {
   "cell_type": "code",
   "execution_count": 5,
   "metadata": {
    "ExecuteTime": {
     "end_time": "2021-11-02T17:40:30.640352Z",
     "start_time": "2021-11-02T17:40:30.609942Z"
    }
   },
   "outputs": [
    {
     "data": {
      "text/plain": [
       "'\\nsunfiona:funciona\\nelegrar:alegrar\\nproximo:próximo\\nentao:então\\ntambem:também\\nmetasífica:metafísica\\nrelaçôes:relações\\nadulterio:adultério\\nacabr:acabar\\nprojeçâo:projeção\\ncaracterisca:característica\\nanimeias:animais\\nfemea:fêmea\\nfertil:fértil\\nperiodo:período\\ninstalaçâo:instalação\\ninterressado:interessado\\nhabitos:hábitos\\npessao:pessoa\\nlugrares:lugares\\nalguem:alguém\\nUMa:Uma\\nPOr:Por\\ndinehiro:dinheiro\\ndecada:década\\naçâo:ação\\nagnete:agente\\nnôa:não\\nobjeot:objeto\\nfuncionario:funcionário\\napra:para\\nasism:assim\\nirritaçâo:irritação\\ninteriro:interior\\nSAO:SÃO\\n'"
      ]
     },
     "execution_count": 5,
     "metadata": {},
     "output_type": "execute_result"
    }
   ],
   "source": [
    "long_text_block"
   ]
  },
  {
   "cell_type": "code",
   "execution_count": 7,
   "metadata": {
    "ExecuteTime": {
     "end_time": "2021-11-02T17:40:58.604275Z",
     "start_time": "2021-11-02T17:40:58.593494Z"
    }
   },
   "outputs": [
    {
     "data": {
      "text/plain": [
       "['sunfiona:funciona',\n",
       " 'elegrar:alegrar',\n",
       " 'proximo:próximo',\n",
       " 'entao:então',\n",
       " 'tambem:também',\n",
       " 'metasífica:metafísica',\n",
       " 'relaçôes:relações',\n",
       " 'adulterio:adultério',\n",
       " 'acabr:acabar',\n",
       " 'projeçâo:projeção',\n",
       " 'caracterisca:característica',\n",
       " 'animeias:animais',\n",
       " 'femea:fêmea',\n",
       " 'fertil:fértil',\n",
       " 'periodo:período',\n",
       " 'instalaçâo:instalação',\n",
       " 'interressado:interessado',\n",
       " 'habitos:hábitos',\n",
       " 'pessao:pessoa',\n",
       " 'lugrares:lugares',\n",
       " 'alguem:alguém',\n",
       " 'UMa:Uma',\n",
       " 'POr:Por',\n",
       " 'dinehiro:dinheiro',\n",
       " 'decada:década',\n",
       " 'açâo:ação',\n",
       " 'agnete:agente',\n",
       " 'nôa:não',\n",
       " 'objeot:objeto',\n",
       " 'funcionario:funcionário',\n",
       " 'apra:para',\n",
       " 'asism:assim',\n",
       " 'irritaçâo:irritação',\n",
       " 'interiro:interior',\n",
       " 'SAO:SÃO']"
      ]
     },
     "execution_count": 7,
     "metadata": {},
     "output_type": "execute_result"
    }
   ],
   "source": [
    "a = long_text_block.split('\\n')[1:-1]\n",
    "a"
   ]
  },
  {
   "cell_type": "code",
   "execution_count": 12,
   "metadata": {
    "ExecuteTime": {
     "end_time": "2021-11-02T17:44:34.224433Z",
     "start_time": "2021-11-02T17:44:34.209965Z"
    },
    "scrolled": true
   },
   "outputs": [
    {
     "data": {
      "text/plain": [
       "{'sunfiona': 'funciona',\n",
       " 'elegrar': 'alegrar',\n",
       " 'proximo': 'próximo',\n",
       " 'entao': 'então',\n",
       " 'tambem': 'também',\n",
       " 'metasífica': 'metafísica',\n",
       " 'relaçôes': 'relações',\n",
       " 'adulterio': 'adultério',\n",
       " 'acabr': 'acabar',\n",
       " 'projeçâo': 'projeção',\n",
       " 'caracterisca': 'característica',\n",
       " 'animeias': 'animais',\n",
       " 'femea': 'fêmea',\n",
       " 'fertil': 'fértil',\n",
       " 'periodo': 'período',\n",
       " 'instalaçâo': 'instalação',\n",
       " 'interressado': 'interessado',\n",
       " 'habitos': 'hábitos',\n",
       " 'pessao': 'pessoa',\n",
       " 'lugrares': 'lugares',\n",
       " 'alguem': 'alguém',\n",
       " 'UMa': 'Uma',\n",
       " 'POr': 'Por',\n",
       " 'dinehiro': 'dinheiro',\n",
       " 'decada': 'década',\n",
       " 'açâo': 'ação',\n",
       " 'agnete': 'agente',\n",
       " 'nôa': 'não',\n",
       " 'objeot': 'objeto',\n",
       " 'funcionario': 'funcionário',\n",
       " 'apra': 'para',\n",
       " 'asism': 'assim',\n",
       " 'irritaçâo': 'irritação',\n",
       " 'interiro': 'interior',\n",
       " 'SAO': 'SÃO'}"
      ]
     },
     "execution_count": 12,
     "metadata": {},
     "output_type": "execute_result"
    }
   ],
   "source": [
    "super_dict = {}\n",
    "for el in long_text_block.split('\\n')[1:-1]:\n",
    "    a,b = el.split(':')\n",
    "    super_dict[a] = b\n",
    "super_dict"
   ]
  },
  {
   "cell_type": "code",
   "execution_count": 9,
   "metadata": {
    "ExecuteTime": {
     "end_time": "2021-11-02T17:43:35.845453Z",
     "start_time": "2021-11-02T17:43:35.834085Z"
    }
   },
   "outputs": [
    {
     "data": {
      "text/plain": [
       "{'Nao': 'Não',\n",
       " 'Nâo': 'Não',\n",
       " 'nao': 'não',\n",
       " 'nâo': 'não',\n",
       " 'vocÊ': 'você',\n",
       " 'voce': 'você',\n",
       " 'codigo': 'códigos',\n",
       " 'FLutter': 'Flutter',\n",
       " 'funçâo': 'função',\n",
       " 'relaçôes': 'relações',\n",
       " 'relaçao': 'relação',\n",
       " 'relaçâo': 'relação',\n",
       " 'Entâo': 'Então',\n",
       " 'metodo': 'método',\n",
       " 'nivel': 'nível',\n",
       " 'execuçâo': 'execução',\n",
       " 'civilizaçâo': 'civilização',\n",
       " 'sâo': 'são',\n",
       " 'proprio': 'próprio',\n",
       " 'materia': 'matéria',\n",
       " 'organizaçâo': 'organização',\n",
       " 'tendencia': 'tendência',\n",
       " 'QUando': 'Quando',\n",
       " 'variavel': 'variável',\n",
       " 'interiror': 'interior'}"
      ]
     },
     "execution_count": 9,
     "metadata": {},
     "output_type": "execute_result"
    }
   ],
   "source": [
    "dictionary"
   ]
  },
  {
   "cell_type": "code",
   "execution_count": 10,
   "metadata": {
    "ExecuteTime": {
     "end_time": "2021-11-02T17:43:54.003541Z",
     "start_time": "2021-11-02T17:43:53.998920Z"
    }
   },
   "outputs": [],
   "source": [
    "dictionary.update(super_dict)"
   ]
  },
  {
   "cell_type": "code",
   "execution_count": 11,
   "metadata": {
    "ExecuteTime": {
     "end_time": "2021-11-02T17:43:58.156244Z",
     "start_time": "2021-11-02T17:43:58.144282Z"
    }
   },
   "outputs": [
    {
     "data": {
      "text/plain": [
       "{'Nao': 'Não',\n",
       " 'Nâo': 'Não',\n",
       " 'nao': 'não',\n",
       " 'nâo': 'não',\n",
       " 'vocÊ': 'você',\n",
       " 'voce': 'você',\n",
       " 'codigo': 'códigos',\n",
       " 'FLutter': 'Flutter',\n",
       " 'funçâo': 'função',\n",
       " 'relaçôes': 'relações',\n",
       " 'relaçao': 'relação',\n",
       " 'relaçâo': 'relação',\n",
       " 'Entâo': 'Então',\n",
       " 'metodo': 'método',\n",
       " 'nivel': 'nível',\n",
       " 'execuçâo': 'execução',\n",
       " 'civilizaçâo': 'civilização',\n",
       " 'sâo': 'são',\n",
       " 'proprio': 'próprio',\n",
       " 'materia': 'matéria',\n",
       " 'organizaçâo': 'organização',\n",
       " 'tendencia': 'tendência',\n",
       " 'QUando': 'Quando',\n",
       " 'variavel': 'variável',\n",
       " 'interiror': 'interior',\n",
       " 'sunfiona': 'funciona',\n",
       " 'elegrar': 'alegrar',\n",
       " 'proximo': 'próximo',\n",
       " 'entao': 'então',\n",
       " 'tambem': 'também',\n",
       " 'metasífica': 'metafísica',\n",
       " 'adulterio': 'adultério',\n",
       " 'acabr': 'acabar',\n",
       " 'projeçâo': 'projeção',\n",
       " 'caracterisca': 'característica',\n",
       " 'animeias': 'animais',\n",
       " 'femea': 'fêmea',\n",
       " 'fertil': 'fértil',\n",
       " 'periodo': 'período',\n",
       " 'instalaçâo': 'instalação',\n",
       " 'interressado': 'interessado',\n",
       " 'habitos': 'hábitos',\n",
       " 'pessao': 'pessoa',\n",
       " 'lugrares': 'lugares',\n",
       " 'alguem': 'alguém',\n",
       " 'UMa': 'Uma',\n",
       " 'POr': 'Por',\n",
       " 'dinehiro': 'dinheiro',\n",
       " 'decada': 'década',\n",
       " 'açâo': 'ação',\n",
       " 'agnete': 'agente',\n",
       " 'nôa': 'não',\n",
       " 'objeot': 'objeto',\n",
       " 'funcionario': 'funcionário',\n",
       " 'apra': 'para',\n",
       " 'asism': 'assim',\n",
       " 'irritaçâo': 'irritação',\n",
       " 'interiro': 'interior',\n",
       " 'SAO': 'SÃO'}"
      ]
     },
     "execution_count": 11,
     "metadata": {},
     "output_type": "execute_result"
    }
   ],
   "source": [
    "dictionary"
   ]
  },
  {
   "cell_type": "code",
   "execution_count": 2,
   "metadata": {
    "ExecuteTime": {
     "end_time": "2021-11-02T17:39:44.676723Z",
     "start_time": "2021-11-02T17:39:44.656395Z"
    }
   },
   "outputs": [
    {
     "name": "stdout",
     "output_type": "stream",
     "text": [
      "Nao Não\n",
      "Nâo Não\n",
      "nao não\n",
      "nâo não\n",
      "vocÊ você\n",
      "voce você\n",
      "codigo códigos\n",
      "FLutter Flutter\n",
      "funçâo função\n",
      "relaçôes relações\n",
      "relaçao relação\n",
      "relaçâo relação\n",
      "Entâo Então\n",
      "metodo método\n",
      "nivel nível\n",
      "execuçâo execução\n",
      "civilizaçâo civilização\n",
      "sâo são\n",
      "proprio próprio\n",
      "materia matéria\n",
      "organizaçâo organização\n",
      "tendencia tendência\n",
      "QUando Quando\n",
      "variavel variável\n",
      "interiror interior\n"
     ]
    }
   ],
   "source": [
    "for wrong, right in dictionary.items():\n",
    "\tprint(wrong, right)"
   ]
  },
  {
   "cell_type": "code",
   "execution_count": null,
   "metadata": {},
   "outputs": [],
   "source": []
  }
 ],
 "metadata": {
  "kernelspec": {
   "display_name": "Python 3",
   "language": "python",
   "name": "python3"
  },
  "language_info": {
   "codemirror_mode": {
    "name": "ipython",
    "version": 3
   },
   "file_extension": ".py",
   "mimetype": "text/x-python",
   "name": "python",
   "nbconvert_exporter": "python",
   "pygments_lexer": "ipython3",
   "version": "3.7.5"
  },
  "toc": {
   "base_numbering": 1,
   "nav_menu": {},
   "number_sections": true,
   "sideBar": true,
   "skip_h1_title": false,
   "title_cell": "Table of Contents",
   "title_sidebar": "Contents",
   "toc_cell": false,
   "toc_position": {},
   "toc_section_display": true,
   "toc_window_display": false
  }
 },
 "nbformat": 4,
 "nbformat_minor": 2
}
