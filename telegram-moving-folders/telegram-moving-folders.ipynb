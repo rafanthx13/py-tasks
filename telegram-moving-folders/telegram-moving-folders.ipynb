{
 "cells": [
  {
   "cell_type": "markdown",
   "metadata": {},
   "source": [
    "# Agrupar Photos e Videos do Telegram em uma única pasta\n",
    "\n",
    "PROCESSO:\n",
    "+ Inicio: Coloque esse arquivo na pasta raiz onde há pastas como `ChatExport_18_10_2021`\n",
    "+ Ele fai lsitar cada pasta e mover o arquivo, depois a pasta fica totalmente vazia de '/photos' e '/videos'"
   ]
  },
  {
   "cell_type": "code",
   "execution_count": 1,
   "metadata": {
    "ExecuteTime": {
     "end_time": "2021-10-18T19:27:45.120551Z",
     "start_time": "2021-10-18T19:27:45.115773Z"
    }
   },
   "outputs": [],
   "source": [
    "import os"
   ]
  },
  {
   "cell_type": "markdown",
   "metadata": {},
   "source": [
    "# Snippets'"
   ]
  },
  {
   "cell_type": "code",
   "execution_count": 2,
   "metadata": {
    "ExecuteTime": {
     "end_time": "2021-10-18T19:27:45.304224Z",
     "start_time": "2021-10-18T19:27:45.129879Z"
    }
   },
   "outputs": [],
   "source": [
    "def check_os_and_separator():\n",
    "    \"\"\"Check if is linux and windows, and retorn separator\"\"\"\n",
    "    separator, op_system = ('\\\\','windows') if os.name == 'nt' else ('/', 'linux')\n",
    "    print(op_system)\n",
    "    return separator"
   ]
  },
  {
   "cell_type": "code",
   "execution_count": 3,
   "metadata": {
    "ExecuteTime": {
     "end_time": "2021-10-18T19:27:45.404646Z",
     "start_time": "2021-10-18T19:27:45.313977Z"
    }
   },
   "outputs": [],
   "source": [
    "def get_all_folders(path='.'):\n",
    "    \"\"\"Get all fodelrs, exlude .ipynb_checkpoints\"\"\"\n",
    "    all_directory_files_contents = os.listdir(path)\n",
    "    all_dirs = list(filter(lambda x: os.path.isdir(x) and x !='.ipynb_checkpoints',\n",
    "                           all_directory_files_contents))\n",
    "    return all_dirs"
   ]
  },
  {
   "cell_type": "code",
   "execution_count": 4,
   "metadata": {
    "ExecuteTime": {
     "end_time": "2021-10-18T19:27:45.482379Z",
     "start_time": "2021-10-18T19:27:45.410621Z"
    }
   },
   "outputs": [],
   "source": [
    "def list_files(dir):\n",
    "    r = []\n",
    "    for root, dirs, files in os.walk(dir):\n",
    "        for name in files:\n",
    "            r.append(os.path.join(root, name))\n",
    "    return r"
   ]
  },
  {
   "cell_type": "markdown",
   "metadata": {},
   "source": [
    "# Devolp Process"
   ]
  },
  {
   "cell_type": "code",
   "execution_count": 5,
   "metadata": {
    "ExecuteTime": {
     "end_time": "2021-10-18T19:27:45.579416Z",
     "start_time": "2021-10-18T19:27:45.485647Z"
    }
   },
   "outputs": [
    {
     "name": "stdout",
     "output_type": "stream",
     "text": [
      "linux\n"
     ]
    },
    {
     "data": {
      "text/plain": [
       "'Telegram Desktop'"
      ]
     },
     "execution_count": 5,
     "metadata": {},
     "output_type": "execute_result"
    }
   ],
   "source": [
    "separator = check_os_and_separator()\n",
    "\n",
    "root_directory = os.getcwd().split(separator)[-1]\n",
    "root_directory"
   ]
  },
  {
   "cell_type": "code",
   "execution_count": 6,
   "metadata": {
    "ExecuteTime": {
     "end_time": "2021-10-18T19:27:45.707130Z",
     "start_time": "2021-10-18T19:27:45.583978Z"
    },
    "scrolled": false
   },
   "outputs": [
    {
     "data": {
      "text/plain": [
       "['ChatExport_18_10_2021 (1)',\n",
       " 'ChatExport_18_10_2021 (2)',\n",
       " 'new-folder',\n",
       " 'ChatExport_18_10_2021 (3)',\n",
       " 'ChatExport_18_10_2021']"
      ]
     },
     "execution_count": 6,
     "metadata": {},
     "output_type": "execute_result"
    }
   ],
   "source": [
    "all_folders = get_all_folders()\n",
    "all_folders"
   ]
  },
  {
   "cell_type": "code",
   "execution_count": 7,
   "metadata": {
    "ExecuteTime": {
     "end_time": "2021-10-18T19:27:45.802063Z",
     "start_time": "2021-10-18T19:27:45.712474Z"
    }
   },
   "outputs": [
    {
     "data": {
      "text/plain": [
       "['ChatExport_18_10_2021 (1)',\n",
       " 'ChatExport_18_10_2021 (2)',\n",
       " 'new-folder',\n",
       " 'ChatExport_18_10_2021 (3)',\n",
       " 'ChatExport_18_10_2021']"
      ]
     },
     "execution_count": 7,
     "metadata": {},
     "output_type": "execute_result"
    }
   ],
   "source": [
    "all_folders"
   ]
  },
  {
   "cell_type": "code",
   "execution_count": 8,
   "metadata": {
    "ExecuteTime": {
     "end_time": "2021-10-18T19:27:45.894722Z",
     "start_time": "2021-10-18T19:27:45.807449Z"
    }
   },
   "outputs": [],
   "source": [
    "nw_folder = './new-folder'\n",
    "if(not os.path.isdir(nw_folder)):\n",
    "    os.mkdir(nw_folder)\n",
    "    os.mkdir(nw_folder + separator + 'videos')\n",
    "    os.mkdir(nw_folder + separator + 'photos')"
   ]
  },
  {
   "cell_type": "markdown",
   "metadata": {},
   "source": [
    "## Iterate on each folder"
   ]
  },
  {
   "cell_type": "code",
   "execution_count": 15,
   "metadata": {
    "ExecuteTime": {
     "end_time": "2021-10-18T19:30:32.808302Z",
     "start_time": "2021-10-18T19:30:32.774418Z"
    }
   },
   "outputs": [
    {
     "name": "stdout",
     "output_type": "stream",
     "text": [
      "Fold ==> ChatExport_18_10_2021 (1)\n",
      "\t\tEmpty Photos\n",
      "\t\tEmpty Videos\n",
      "Fold ==> ChatExport_18_10_2021 (2)\n",
      "\t\tEmpty Photos\n",
      "\t\tEmpty Videos\n",
      "Fold ==> ChatExport_18_10_2021 (3)\n",
      "\t\tEmpty Photos\n",
      "\t\tEmpty Videos\n",
      "Fold ==> ChatExport_18_10_2021\n",
      "\t\tEmpty Photos\n",
      "\t\tEmpty Videos\n"
     ]
    }
   ],
   "source": [
    "new_photo_path =  nw_folder + separator + 'photos'\n",
    "new_videos_path =  nw_folder + separator + 'videos'\n",
    "\n",
    "all_folders = list(filter(lambda x: x != 'new-folder', all_folders))\n",
    "\n",
    "for fold in all_folders:\n",
    "    print('Fold ==>', fold)\n",
    "    # Photos\n",
    "    photos_path = './'+ fold + separator + 'photos'\n",
    "    list_photos = list( filter(lambda file: not 'thumb' in file, list_files(photos_path)) )\n",
    "    if(len(list_photos) == 0):\n",
    "        print('\\t\\tEmpty Photos')\n",
    "    try:\n",
    "        for photo in list_photos:\n",
    "            the_image = photo[2:].split(separator)[-1]\n",
    "            os.rename(photo, new_photo_path + separator + the_image)\n",
    "            print('\\t', the_image)\n",
    "    except Exception as err:\n",
    "        print('ERROR')\n",
    "        print(err)\n",
    "    # Videos\n",
    "    videos_path = './'+ fold + separator + 'video_files'\n",
    "    list_videos = list( filter(lambda file: not 'thumb' in file, list_files(videos_path)) )\n",
    "    if(len(list_videos) == 0):\n",
    "        print('\\t\\tEmpty Videos')\n",
    "    try:\n",
    "        for video in list_videos:\n",
    "            the_video = video[2:].split(separator)[-1]\n",
    "            os.rename(video, new_videos_path + separator + the_video)\n",
    "            print('\\t', the_video)\n",
    "    except Exception as err:\n",
    "        print('ERROR')\n",
    "        print(err)"
   ]
  },
  {
   "cell_type": "code",
   "execution_count": 16,
   "metadata": {
    "ExecuteTime": {
     "end_time": "2021-10-18T19:31:49.374879Z",
     "start_time": "2021-10-18T19:31:49.368755Z"
    }
   },
   "outputs": [
    {
     "name": "stdout",
     "output_type": "stream",
     "text": [
      "END\n"
     ]
    }
   ],
   "source": [
    "print('END')"
   ]
  },
  {
   "cell_type": "code",
   "execution_count": null,
   "metadata": {},
   "outputs": [],
   "source": []
  }
 ],
 "metadata": {
  "kernelspec": {
   "display_name": "Python 3",
   "language": "python",
   "name": "python3"
  },
  "language_info": {
   "codemirror_mode": {
    "name": "ipython",
    "version": 3
   },
   "file_extension": ".py",
   "mimetype": "text/x-python",
   "name": "python",
   "nbconvert_exporter": "python",
   "pygments_lexer": "ipython3",
   "version": "3.7.5"
  },
  "toc": {
   "base_numbering": 1,
   "nav_menu": {},
   "number_sections": true,
   "sideBar": true,
   "skip_h1_title": false,
   "title_cell": "Table of Contents",
   "title_sidebar": "Contents",
   "toc_cell": false,
   "toc_position": {},
   "toc_section_display": true,
   "toc_window_display": false
  }
 },
 "nbformat": 4,
 "nbformat_minor": 2
}
